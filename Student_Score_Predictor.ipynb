{
 "cells": [
  {
   "cell_type": "code",
   "execution_count": 66,
   "id": "f6b8d7cb-fc6a-4812-bc22-10e666225721",
   "metadata": {},
   "outputs": [],
   "source": [
    "import numpy as np\n",
    "import pandas as pd\n",
    "import matplotlib.pyplot as plt\n",
    "import seaborn as sns\n",
    "\n",
    "# run the make_prediction() function at the end to test the model"
   ]
  },
  {
   "cell_type": "code",
   "execution_count": 4,
   "id": "6af29e87-4c0a-4fac-9dd1-320da0570296",
   "metadata": {},
   "outputs": [],
   "source": [
    "df = pd.read_csv(\"student_scores.csv\")"
   ]
  },
  {
   "cell_type": "code",
   "execution_count": 6,
   "id": "9333d0a1-cd42-4b1f-8a7c-596bff535c33",
   "metadata": {},
   "outputs": [
    {
     "data": {
      "text/html": [
       "<div>\n",
       "<style scoped>\n",
       "    .dataframe tbody tr th:only-of-type {\n",
       "        vertical-align: middle;\n",
       "    }\n",
       "\n",
       "    .dataframe tbody tr th {\n",
       "        vertical-align: top;\n",
       "    }\n",
       "\n",
       "    .dataframe thead th {\n",
       "        text-align: right;\n",
       "    }\n",
       "</style>\n",
       "<table border=\"1\" class=\"dataframe\">\n",
       "  <thead>\n",
       "    <tr style=\"text-align: right;\">\n",
       "      <th></th>\n",
       "      <th>Hours</th>\n",
       "      <th>Scores</th>\n",
       "    </tr>\n",
       "  </thead>\n",
       "  <tbody>\n",
       "    <tr>\n",
       "      <th>0</th>\n",
       "      <td>2.5</td>\n",
       "      <td>21</td>\n",
       "    </tr>\n",
       "    <tr>\n",
       "      <th>1</th>\n",
       "      <td>5.1</td>\n",
       "      <td>47</td>\n",
       "    </tr>\n",
       "    <tr>\n",
       "      <th>2</th>\n",
       "      <td>3.2</td>\n",
       "      <td>27</td>\n",
       "    </tr>\n",
       "    <tr>\n",
       "      <th>3</th>\n",
       "      <td>8.5</td>\n",
       "      <td>75</td>\n",
       "    </tr>\n",
       "    <tr>\n",
       "      <th>4</th>\n",
       "      <td>3.5</td>\n",
       "      <td>30</td>\n",
       "    </tr>\n",
       "  </tbody>\n",
       "</table>\n",
       "</div>"
      ],
      "text/plain": [
       "   Hours  Scores\n",
       "0    2.5      21\n",
       "1    5.1      47\n",
       "2    3.2      27\n",
       "3    8.5      75\n",
       "4    3.5      30"
      ]
     },
     "execution_count": 6,
     "metadata": {},
     "output_type": "execute_result"
    }
   ],
   "source": [
    "df.head()"
   ]
  },
  {
   "cell_type": "code",
   "execution_count": 7,
   "id": "a665aeef-1e1b-4def-86c9-a13471bdedac",
   "metadata": {},
   "outputs": [
    {
     "data": {
      "text/plain": [
       "Index(['Hours', 'Scores'], dtype='object')"
      ]
     },
     "execution_count": 7,
     "metadata": {},
     "output_type": "execute_result"
    }
   ],
   "source": [
    "df.columns"
   ]
  },
  {
   "cell_type": "code",
   "execution_count": 9,
   "id": "cbe1bfde-e866-4541-94c7-84d14831d391",
   "metadata": {},
   "outputs": [
    {
     "data": {
      "text/html": [
       "<div>\n",
       "<style scoped>\n",
       "    .dataframe tbody tr th:only-of-type {\n",
       "        vertical-align: middle;\n",
       "    }\n",
       "\n",
       "    .dataframe tbody tr th {\n",
       "        vertical-align: top;\n",
       "    }\n",
       "\n",
       "    .dataframe thead th {\n",
       "        text-align: right;\n",
       "    }\n",
       "</style>\n",
       "<table border=\"1\" class=\"dataframe\">\n",
       "  <thead>\n",
       "    <tr style=\"text-align: right;\">\n",
       "      <th></th>\n",
       "      <th>Hours</th>\n",
       "      <th>Scores</th>\n",
       "    </tr>\n",
       "  </thead>\n",
       "  <tbody>\n",
       "    <tr>\n",
       "      <th>count</th>\n",
       "      <td>25.000000</td>\n",
       "      <td>25.000000</td>\n",
       "    </tr>\n",
       "    <tr>\n",
       "      <th>mean</th>\n",
       "      <td>5.012000</td>\n",
       "      <td>51.480000</td>\n",
       "    </tr>\n",
       "    <tr>\n",
       "      <th>std</th>\n",
       "      <td>2.525094</td>\n",
       "      <td>25.286887</td>\n",
       "    </tr>\n",
       "    <tr>\n",
       "      <th>min</th>\n",
       "      <td>1.100000</td>\n",
       "      <td>17.000000</td>\n",
       "    </tr>\n",
       "    <tr>\n",
       "      <th>25%</th>\n",
       "      <td>2.700000</td>\n",
       "      <td>30.000000</td>\n",
       "    </tr>\n",
       "    <tr>\n",
       "      <th>50%</th>\n",
       "      <td>4.800000</td>\n",
       "      <td>47.000000</td>\n",
       "    </tr>\n",
       "    <tr>\n",
       "      <th>75%</th>\n",
       "      <td>7.400000</td>\n",
       "      <td>75.000000</td>\n",
       "    </tr>\n",
       "    <tr>\n",
       "      <th>max</th>\n",
       "      <td>9.200000</td>\n",
       "      <td>95.000000</td>\n",
       "    </tr>\n",
       "  </tbody>\n",
       "</table>\n",
       "</div>"
      ],
      "text/plain": [
       "           Hours     Scores\n",
       "count  25.000000  25.000000\n",
       "mean    5.012000  51.480000\n",
       "std     2.525094  25.286887\n",
       "min     1.100000  17.000000\n",
       "25%     2.700000  30.000000\n",
       "50%     4.800000  47.000000\n",
       "75%     7.400000  75.000000\n",
       "max     9.200000  95.000000"
      ]
     },
     "execution_count": 9,
     "metadata": {},
     "output_type": "execute_result"
    }
   ],
   "source": [
    "df.describe()"
   ]
  },
  {
   "cell_type": "code",
   "execution_count": 10,
   "id": "dfb161bf-22c9-4215-890c-57547bda7261",
   "metadata": {},
   "outputs": [
    {
     "data": {
      "text/plain": [
       "(25, 2)"
      ]
     },
     "execution_count": 10,
     "metadata": {},
     "output_type": "execute_result"
    }
   ],
   "source": [
    "df.shape"
   ]
  },
  {
   "cell_type": "code",
   "execution_count": 13,
   "id": "408df909-17e3-469b-8adc-6c2f57990453",
   "metadata": {},
   "outputs": [
    {
     "data": {
      "image/png": "[encoded data removed]",
      "text/plain": [
       "<Figure size 640x480 with 1 Axes>"
      ]
     },
     "metadata": {},
     "output_type": "display_data"
    }
   ],
   "source": [
    "sns.scatterplot(data = df, x=\"Hours\", y=\"Scores\")\n",
    "plt.title(\"Hours vs. Score\")\n",
    "plt.xlabel(\"Hours\")\n",
    "plt.ylabel(\"Scores\")\n",
    "plt.show()"
   ]
  },
  {
   "cell_type": "code",
   "execution_count": 25,
   "id": "018d709a-bba8-4e5b-8490-2b96ef123d56",
   "metadata": {},
   "outputs": [],
   "source": [
    "# prepare data for training\n",
    "\n",
    "x = df[\"Hours\"].values\n",
    "y = df[\"Scores\"].values"
   ]
  },
  {
   "cell_type": "markdown",
   "id": "dc5059f5-b4eb-443e-b0f9-4d0f83ccb3c2",
   "metadata": {},
   "source": [
    "<h1>LINEAR REGRESSION</h1>"
   ]
  },
  {
   "cell_type": "code",
   "execution_count": 21,
   "id": "8f05c8cf-b131-402c-8846-5b51c737a9f1",
   "metadata": {},
   "outputs": [],
   "source": [
    "# main predict function (vectorized)\n",
    "def prediction(x, w, b):\n",
    "    return np.dot(x, w) + b\n",
    "\n",
    "def compute_cost(x, y, w, b):\n",
    "    fwb = prediction(x, w, b)\n",
    "    \n",
    "    total_cost = (1 / (2 * m)) * np.sum(((fwb - y) ** 2))\n",
    "\n",
    "    return total_cost"
   ]
  },
  {
   "cell_type": "code",
   "execution_count": 23,
   "id": "8d64509f-be35-41f2-9c01-c5dd88b6bdbf",
   "metadata": {},
   "outputs": [],
   "source": [
    "# gradient descent to get w and b (vectorized)\n",
    "\n",
    "def compute_gradient(x, y, w, b):\n",
    "    m = len(x)\n",
    "\n",
    "    error = prediction(x, w, b) - y\n",
    "\n",
    "    dj_dw = (1 / m) * np.dot(x, error)\n",
    "    dj_db = (1 / m) * np.sum(error)\n",
    "\n",
    "    return dj_dw, dj_db\n",
    "\n",
    "def gradient_descent(x, y, w, b, alpha, iterations):\n",
    "\n",
    "    cost_history = []\n",
    "\n",
    "    for i in range(iterations):\n",
    "        dj_dw, dj_db = compute_gradient(x, y, w, b)\n",
    "\n",
    "        w -= alpha * dj_dw\n",
    "        b -= alpha * dj_db\n",
    "\n",
    "        cost_history.append(compute_cost(x, y, w, b))\n",
    "\n",
    "    return w, b, cost_history"
   ]
  },
  {
   "cell_type": "markdown",
   "id": "99478a87-2933-4862-bb23-af0e1c47ff89",
   "metadata": {},
   "source": [
    "<h1>Training</h1>"
   ]
  },
  {
   "cell_type": "code",
   "execution_count": 28,
   "id": "25184034-2ae6-44cb-9b01-025c9ecb98e4",
   "metadata": {},
   "outputs": [
    {
     "name": "stdout",
     "output_type": "stream",
     "text": [
      "final w: 9.89349329141421\n",
      "final b: 1.754563884539238\n"
     ]
    }
   ],
   "source": [
    "w = 0\n",
    "b = 0\n",
    "alpha = 0.01\n",
    "iterations = 100\n",
    "\n",
    "w_final, b_final, cost_history = gradient_descent(x, y, w, b, alpha, iterations)\n",
    "\n",
    "print(f\"final w: {w_final}\")\n",
    "print(f\"final b: {b_final}\")\n"
   ]
  },
  {
   "cell_type": "code",
   "execution_count": 29,
   "id": "f85ca951-255a-4300-a08c-1f336f36851c",
   "metadata": {},
   "outputs": [
    {
     "data": {
      "image/png": "[encoded data removed]",
      "text/plain": [
       "<Figure size 640x480 with 1 Axes>"
      ]
     },
     "metadata": {},
     "output_type": "display_data"
    }
   ],
   "source": [
    "# Plot cost vs. iteration (how Gradient Descent learns)\n",
    "plt.plot(cost_history)\n",
    "plt.xlabel(\"Iteration\")\n",
    "plt.ylabel(\"Cost J(w,b)\")\n",
    "plt.title(\"Gradient Descent: Cost Function vs Iteration\")\n",
    "plt.show()"
   ]
  },
  {
   "cell_type": "code",
   "execution_count": 51,
   "id": "9b2ab990-6a54-4e79-a14b-53483e8817f3",
   "metadata": {},
   "outputs": [],
   "source": [
    "# move this somewhere else later\n",
    "\n",
    "import time\n",
    "def make_prediction():\n",
    "    print(\"[Score prediction via hours of studying]\")\n",
    "    hours = float(input(\"How many hours did you study?: \"))\n",
    "    \n",
    "    predict_score = prediction(hours, w_final, b_final)\n",
    "    print(\"Predicting...\")\n",
    "    time.sleep(3)  # Pause execution for 3 seconds\n",
    "    print(\"Prediction complete!\")\n",
    "    print(f\"You can get {int(predict_score)} score in a test within {hours} hours of studying!\")"
   ]
  },
  {
   "cell_type": "markdown",
   "id": "f1c56262-7454-43e1-81d5-c21d6e6b63b8",
   "metadata": {},
   "source": [
    "<h1>See if the model fits the data</h1>"
   ]
  },
  {
   "cell_type": "code",
   "execution_count": 37,
   "id": "078130f2-7ea7-4e0c-b6e6-b7e1136454af",
   "metadata": {},
   "outputs": [
    {
     "data": {
      "image/png": "[encoded data removed]",
      "text/plain": [
       "<Figure size 640x480 with 1 Axes>"
      ]
     },
     "metadata": {},
     "output_type": "display_data"
    }
   ],
   "source": [
    "lrLine = prediction(x, w_final, b_final)\n",
    "\n",
    "sns.scatterplot(data = df, x=\"Hours\", y=\"Scores\")\n",
    "\n",
    "plt.title(\"Hours vs. Score\")\n",
    "plt.xlabel(\"Hours\")\n",
    "plt.ylabel(\"Scores\")\n",
    "\n",
    "plt.plot(x,lrLine, color=\"blue\", label=f\"f_wb(x) = ({w_final:.2f} * x) + {b_final:.2f}\")\n",
    "plt.legend()\n",
    "\n",
    "plt.show()\n",
    "\n",
    "# INSANE"
   ]
  },
  {
   "cell_type": "markdown",
   "id": "70d13cdd-6080-4289-b578-9c20dbb1ab30",
   "metadata": {},
   "source": [
    "<h1> SAMPLE PREDICTION </h1>"
   ]
  },
  {
   "cell_type": "code",
   "execution_count": 65,
   "id": "f0b564dc-c604-4dac-afd7-bc87cf0abddb",
   "metadata": {},
   "outputs": [
    {
     "name": "stdout",
     "output_type": "stream",
     "text": [
      "[Score prediction via hours of studying]\n"
     ]
    },
    {
     "name": "stdin",
     "output_type": "stream",
     "text": [
      "How many hours did you study?:  1\n"
     ]
    },
    {
     "name": "stdout",
     "output_type": "stream",
     "text": [
      "Predicting...\n",
      "Prediction complete!\n",
      "You can get 11 score in a test within 1.0 hours of studying!\n"
     ]
    }
   ],
   "source": [
    "make_prediction()"
   ]
  },
  {
   "cell_type": "markdown",
   "id": "903106f9-a0d3-479f-9750-bf5351fd14c1",
   "metadata": {},
   "source": [
    "testing test"
   ]
  }
 ],
 "metadata": {
  "kernelspec": {
   "display_name": "Python 3 (ipykernel)",
   "language": "python",
   "name": "python3"
  },
  "language_info": {
   "codemirror_mode": {
    "name": "ipython",
    "version": 3
   },
   "file_extension": ".py",
   "mimetype": "text/x-python",
   "name": "python",
   "nbconvert_exporter": "python",
   "pygments_lexer": "ipython3",
   "version": "3.12.4"
  }
 },
 "nbformat": 4,
 "nbformat_minor": 5
}
